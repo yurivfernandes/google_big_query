{
 "cells": [
  {
   "cell_type": "code",
   "execution_count": 3,
   "metadata": {},
   "outputs": [],
   "source": [
    "from google.cloud import bigquery\n",
    "import pandas as pd"
   ]
  },
  {
   "cell_type": "code",
   "execution_count": 4,
   "metadata": {},
   "outputs": [],
   "source": [
    "# Especifique o caminho para o arquivo JSON de credenciais\n",
    "credencial = r\"\"\n",
    "# Crie um cliente BigQuery usando as credenciais\n",
    "client = bigquery.Client.from_service_account_json(credencial)"
   ]
  },
  {
   "cell_type": "code",
   "execution_count": 17,
   "metadata": {},
   "outputs": [],
   "source": [
    "# querys \n",
    "queryProduto = \"\"\" \n",
    "SELECT * FROM `python-410115.AulaPython.Produto`\n",
    "limit 10\n",
    "\"\"\"\n",
    "queryCategoria=\"\"\" \n",
    "SELECT * FROM `python-410115.AulaPython.Categoria`\n",
    "where id in (0,5,8,10)\n",
    "\"\"\"\n",
    "queryItens=\"\"\"\n",
    "SELECT * FROM `python-410115.AulaPython.Items`\n",
    "\"\"\"\n",
    "queryordens=\"\"\"\n",
    "SELECT * FROM `python-410115.AulaPython.Ordens`\n",
    "limit 20\n",
    "\"\"\"\n",
    "queryClientes=\"\"\"\n",
    "SELECT * FROM `python-410115.AulaPython.clientes`\n",
    "limit 50\n",
    "\"\"\"\n"
   ]
  },
  {
   "cell_type": "code",
   "execution_count": 18,
   "metadata": {},
   "outputs": [],
   "source": [
    "resultadoProduto    = client.query(queryProduto)\n",
    "resultadoCategoria  = client.query(queryCategoria)\n",
    "resultadoItens      = client.query(queryItens)\n",
    "resultadoOrdens     = client.query(queryordens)\n",
    "resultadoClientes   = client.query(queryClientes)"
   ]
  },
  {
   "cell_type": "code",
   "execution_count": 20,
   "metadata": {},
   "outputs": [],
   "source": [
    "# Converta os resultados em um DataFrame\n",
    "Produto     = resultadoProduto.to_dataframe()\n",
    "DfCategoria = resultadoCategoria.to_dataframe()\n",
    "DfItens     = resultadoItens.to_dataframe()\n",
    "DfOrdens    = resultadoOrdens.to_dataframe()\n",
    "DfClientes  = resultadoClientes.to_dataframe()"
   ]
  },
  {
   "cell_type": "code",
   "execution_count": 21,
   "metadata": {},
   "outputs": [
    {
     "data": {
      "text/html": [
       "<div>\n",
       "<style scoped>\n",
       "    .dataframe tbody tr th:only-of-type {\n",
       "        vertical-align: middle;\n",
       "    }\n",
       "\n",
       "    .dataframe tbody tr th {\n",
       "        vertical-align: top;\n",
       "    }\n",
       "\n",
       "    .dataframe thead th {\n",
       "        text-align: right;\n",
       "    }\n",
       "</style>\n",
       "<table border=\"1\" class=\"dataframe\">\n",
       "  <thead>\n",
       "    <tr style=\"text-align: right;\">\n",
       "      <th></th>\n",
       "      <th>id</th>\n",
       "      <th>created_at</th>\n",
       "      <th>customer_id</th>\n",
       "      <th>status</th>\n",
       "    </tr>\n",
       "  </thead>\n",
       "  <tbody>\n",
       "    <tr>\n",
       "      <th>0</th>\n",
       "      <td>363</td>\n",
       "      <td>2019-10-30 11:47:36+00:00</td>\n",
       "      <td>0</td>\n",
       "      <td>carrinho</td>\n",
       "    </tr>\n",
       "    <tr>\n",
       "      <th>1</th>\n",
       "      <td>489</td>\n",
       "      <td>2019-02-20 04:18:16+00:00</td>\n",
       "      <td>0</td>\n",
       "      <td>carrinho</td>\n",
       "    </tr>\n",
       "    <tr>\n",
       "      <th>2</th>\n",
       "      <td>1799</td>\n",
       "      <td>2019-07-20 09:39:59+00:00</td>\n",
       "      <td>0</td>\n",
       "      <td>carrinho</td>\n",
       "    </tr>\n",
       "    <tr>\n",
       "      <th>3</th>\n",
       "      <td>2068</td>\n",
       "      <td>2019-09-08 05:02:58+00:00</td>\n",
       "      <td>0</td>\n",
       "      <td>carrinho</td>\n",
       "    </tr>\n",
       "    <tr>\n",
       "      <th>4</th>\n",
       "      <td>2405</td>\n",
       "      <td>2019-06-17 22:27:25+00:00</td>\n",
       "      <td>0</td>\n",
       "      <td>carrinho</td>\n",
       "    </tr>\n",
       "  </tbody>\n",
       "</table>\n",
       "</div>"
      ],
      "text/plain": [
       "     id                created_at  customer_id    status\n",
       "0   363 2019-10-30 11:47:36+00:00            0  carrinho\n",
       "1   489 2019-02-20 04:18:16+00:00            0  carrinho\n",
       "2  1799 2019-07-20 09:39:59+00:00            0  carrinho\n",
       "3  2068 2019-09-08 05:02:58+00:00            0  carrinho\n",
       "4  2405 2019-06-17 22:27:25+00:00            0  carrinho"
      ]
     },
     "execution_count": 21,
     "metadata": {},
     "output_type": "execute_result"
    }
   ],
   "source": [
    "DfOrdens.head()"
   ]
  },
  {
   "cell_type": "code",
   "execution_count": 22,
   "metadata": {},
   "outputs": [],
   "source": [
    "DfOrdens['created_at'] = DfOrdens['created_at'].dt.tz_convert(None)"
   ]
  },
  {
   "cell_type": "code",
   "execution_count": 24,
   "metadata": {},
   "outputs": [],
   "source": [
    "pasta = r''\n",
    "ExcelProduto   = 'Produto.xlsx'\n",
    "ExcelCategoria ='Categoria.xlsx'\n",
    "ExcelItens     = 'Itens.xlsx'\n",
    "ExcelOrdens    = 'Ordens.xlsx'\n",
    "ExcelClientes  = 'Clientes.xlsx'\n",
    "\n",
    "Produto.to_excel(pasta+ExcelProduto, index=False)  \n",
    "DfCategoria.to_excel(pasta+ExcelCategoria, index=False)  \n",
    "DfItens.to_excel(pasta+ExcelItens, index=False)  \n",
    "DfOrdens.to_excel(pasta+ExcelOrdens, index=False)  \n",
    "DfClientes.to_excel(pasta+ExcelClientes, index=False)  "
   ]
  }
 ],
 "metadata": {
  "kernelspec": {
   "display_name": "Python 3.8.8 ('.venv3.8.8')",
   "language": "python",
   "name": "python3"
  },
  "language_info": {
   "codemirror_mode": {
    "name": "ipython",
    "version": 3
   },
   "file_extension": ".py",
   "mimetype": "text/x-python",
   "name": "python",
   "nbconvert_exporter": "python",
   "pygments_lexer": "ipython3",
   "version": "3.8.8"
  },
  "orig_nbformat": 4,
  "vscode": {
   "interpreter": {
    "hash": "0ce7424fea5a7c82972560148194eb6c909239f86cb96ca7b8decc41c6e2c674"
   }
  }
 },
 "nbformat": 4,
 "nbformat_minor": 2
}
