{
 "cells": [
  {
   "cell_type": "code",
   "execution_count": 2,
   "metadata": {},
   "outputs": [],
   "source": [
    "import pandas as pd\n",
    "from google.cloud import bigquery\n",
    "from google.oauth2 import service_account\n",
    "from pandas_gbq import to_gbq"
   ]
  },
  {
   "cell_type": "code",
   "execution_count": 3,
   "metadata": {},
   "outputs": [],
   "source": [
    "Produto = pd.read_excel(r\"C:\\Users\\YuriVianaFernandes\\OneDrive - staterati.com.br\\Docs Pessoais\\Documentos\\Engenharia de Dados\\big query\\Arquivos+google+bigquery\\Arquivos google bigquery\\Arquivos\\Origem\\arquivos_excel\\Produto.xlsx\")\n",
    "Categoria = pd.read_excel(r\"C:\\Users\\YuriVianaFernandes\\OneDrive - staterati.com.br\\Docs Pessoais\\Documentos\\Engenharia de Dados\\big query\\Arquivos+google+bigquery\\Arquivos google bigquery\\Arquivos\\Origem\\arquivos_excel\\Categoria.xlsx\")\n",
    "Itens = pd.read_excel(r\"C:\\Users\\YuriVianaFernandes\\OneDrive - staterati.com.br\\Docs Pessoais\\Documentos\\Engenharia de Dados\\big query\\Arquivos+google+bigquery\\Arquivos google bigquery\\Arquivos\\Origem\\arquivos_excel\\items.xlsx\")\n",
    "Ordens = pd.read_excel(r\"C:\\Users\\YuriVianaFernandes\\OneDrive - staterati.com.br\\Docs Pessoais\\Documentos\\Engenharia de Dados\\big query\\Arquivos+google+bigquery\\Arquivos google bigquery\\Arquivos\\Origem\\arquivos_excel\\Ordens.xlsx\")\n",
    "Clientes = pd.read_csv(r\"C:\\Users\\YuriVianaFernandes\\OneDrive - staterati.com.br\\Docs Pessoais\\Documentos\\Engenharia de Dados\\big query\\Arquivos+google+bigquery\\Arquivos google bigquery\\Arquivos\\Origem\\arquivos_csv\\Clientes.csv\",delimiter=',')\n"
   ]
  },
  {
   "cell_type": "code",
   "execution_count": null,
   "metadata": {},
   "outputs": [],
   "source": [
    "#Categoria.head()"
   ]
  },
  {
   "cell_type": "code",
   "execution_count": 4,
   "metadata": {},
   "outputs": [],
   "source": [
    "projeto = 'python-410115'\n",
    "dataset = 'AulaPython'\n",
    "BQproduto   ='Produto'\n",
    "BQitems     ='Items'\n",
    "BQordens    ='Ordens'\n",
    "BQCategoria ='Categoria'\n",
    "BQclientes  ='clientes'\n",
    "parameretro ='replace'    "
   ]
  },
  {
   "cell_type": "code",
   "execution_count": 5,
   "metadata": {},
   "outputs": [],
   "source": [
    "credencial = service_account.Credentials.from_service_account_file(\n",
    "    r'',\n",
    "    scopes=['https://www.googleapis.com/auth/bigquery']\n",
    ")"
   ]
  },
  {
   "cell_type": "code",
   "execution_count": 6,
   "metadata": {},
   "outputs": [],
   "source": [
    "Produto.to_gbq(destination_table=f'{projeto}.{dataset}.{BQproduto}',   \n",
    "          project_id=projeto,\n",
    "          if_exists=parameretro,\n",
    "          credentials=credencial)"
   ]
  },
  {
   "cell_type": "code",
   "execution_count": 7,
   "metadata": {},
   "outputs": [],
   "source": [
    "Itens.to_gbq(destination_table=f'{projeto}.{dataset}.{BQitems}',   \n",
    "          project_id=projeto,\n",
    "          if_exists=parameretro,\n",
    "          credentials=credencial)"
   ]
  },
  {
   "cell_type": "code",
   "execution_count": 8,
   "metadata": {},
   "outputs": [],
   "source": [
    "Ordens.to_gbq(destination_table=f'{projeto}.{dataset}.{BQordens}',   \n",
    "          project_id=projeto,\n",
    "          if_exists=parameretro,\n",
    "          credentials=credencial)"
   ]
  },
  {
   "cell_type": "code",
   "execution_count": 9,
   "metadata": {},
   "outputs": [],
   "source": [
    "Categoria.to_gbq(destination_table=f'{projeto}.{dataset}.{BQCategoria}',   \n",
    "          project_id=projeto,\n",
    "          if_exists=parameretro,\n",
    "          credentials=credencial)"
   ]
  },
  {
   "cell_type": "code",
   "execution_count": 10,
   "metadata": {},
   "outputs": [],
   "source": [
    "# Realiza a carga de tabela de clientes \n",
    "Clientes.to_gbq(destination_table=f'{projeto}.{dataset}.{BQclientes}',   \n",
    "          project_id=projeto,\n",
    "          if_exists=parameretro,\n",
    "          credentials=credencial)"
   ]
  }
 ],
 "metadata": {
  "kernelspec": {
   "display_name": "Python 3.8.8 ('.venv3.8.8')",
   "language": "python",
   "name": "python3"
  },
  "language_info": {
   "codemirror_mode": {
    "name": "ipython",
    "version": 3
   },
   "file_extension": ".py",
   "mimetype": "text/x-python",
   "name": "python",
   "nbconvert_exporter": "python",
   "pygments_lexer": "ipython3",
   "version": "3.8.8"
  },
  "orig_nbformat": 4,
  "vscode": {
   "interpreter": {
    "hash": "0ce7424fea5a7c82972560148194eb6c909239f86cb96ca7b8decc41c6e2c674"
   }
  }
 },
 "nbformat": 4,
 "nbformat_minor": 2
}
